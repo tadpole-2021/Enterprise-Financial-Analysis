{
 "cells": [
  {
   "cell_type": "markdown",
   "id": "286c46ed",
   "metadata": {},
   "source": [
    "# 1-1"
   ]
  },
  {
   "cell_type": "code",
   "execution_count": 4,
   "id": "bf2fe3bd",
   "metadata": {},
   "outputs": [],
   "source": [
    "import pandas as pd\n",
    "\n",
    "# 读取CSV文件\n",
    "data = pd.read_csv('LR.csv')\n",
    "\n",
    "# 提取指定列的数据\n",
    "selected_columns = ['Stkcd', 'Accper', 'Typrep', 'B001000000', 'B001100000', 'B001101000', 'B001200000', 'B001201000', 'B001207000', 'B001209000', 'B001210000', 'B001211000', 'B001212000', 'B001303000', 'B002300000']\n",
    "data0 = data[selected_columns]"
   ]
  },
  {
   "cell_type": "code",
   "execution_count": 5,
   "id": "a484f1e8",
   "metadata": {},
   "outputs": [],
   "source": [
    "# 筛选出字段“Typrep”值为“A”的数据\n",
    "filtered_data = data0.loc[data[\"Typrep\"] == \"A\"]\n",
    "\n",
    "# 将筛选出的数据另存为文件“LR_1.csv”，并设置文件编码为UTF-8\n",
    "filtered_data.to_csv(\"LR_1.csv\", index=False, encoding=\"utf-8\")"
   ]
  },
  {
   "cell_type": "markdown",
   "id": "b7e8d2b5",
   "metadata": {},
   "source": [
    "## 行数，列数"
   ]
  },
  {
   "cell_type": "code",
   "execution_count": 7,
   "id": "da72cff2",
   "metadata": {},
   "outputs": [
    {
     "data": {
      "text/plain": [
       "(33414, 15)"
      ]
     },
     "execution_count": 7,
     "metadata": {},
     "output_type": "execute_result"
    }
   ],
   "source": [
    "filtered_data.shape"
   ]
  },
  {
   "cell_type": "code",
   "execution_count": null,
   "id": "a92d4e43",
   "metadata": {},
   "outputs": [],
   "source": []
  }
 ],
 "metadata": {
  "kernelspec": {
   "display_name": "Python 3 (ipykernel)",
   "language": "python",
   "name": "python3"
  },
  "language_info": {
   "codemirror_mode": {
    "name": "ipython",
    "version": 3
   },
   "file_extension": ".py",
   "mimetype": "text/x-python",
   "name": "python",
   "nbconvert_exporter": "python",
   "pygments_lexer": "ipython3",
   "version": "3.9.12"
  }
 },
 "nbformat": 4,
 "nbformat_minor": 5
}
