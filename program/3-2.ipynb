{
 "cells": [
  {
   "cell_type": "code",
   "execution_count": 13,
   "metadata": {},
   "outputs": [
    {
     "name": "stdout",
     "output_type": "stream",
     "text": [
      "105929295.025\n",
      "156625596.322\n",
      "172955564.8\n",
      "99710928.015\n",
      "79885625.4267\n",
      "605882605.95\n",
      "96785058.64\n",
      "146360630.15\n",
      "217382535.475\n",
      "-40173019.695\n"
     ]
    }
   ],
   "source": [
    "import pandas as pd\n",
    "\n",
    "#导入数据\n",
    "df = pd.read_csv('financial_data.csv')\n",
    "df1 = pd.read_csv('test.csv')\n",
    "\n",
    "#合并表格\n",
    "mer = pd.merge(df1,df,on = 'TICKER_SYMBOL',how = 'left')\n",
    "\n",
    "#在df里边找df1\n",
    "value_to_find = ['4953174','4961537','4962538','4968740','4973917','4978589','4978721','4986535','4990739','4990942']\n",
    "result = df.loc[df['TICKER_SYMBOL'].isin(value_to_find)]\n",
    "\n",
    "#分类汇总求平均\n",
    "d = result.groupby('TICKER_SYMBOL').mean()\n",
    "\n",
    "#输出LRZE\n",
    "for a in d['LRZE']:\n",
    "    print(a)"
   ]
  }
 ],
 "metadata": {
  "kernelspec": {
   "display_name": "Python 3 (ipykernel)",
   "language": "python",
   "name": "python3"
  },
  "language_info": {
   "codemirror_mode": {
    "name": "ipython",
    "version": 3
   },
   "file_extension": ".py",
   "mimetype": "text/x-python",
   "name": "python",
   "nbconvert_exporter": "python",
   "pygments_lexer": "ipython3",
   "version": "3.9.12"
  }
 },
 "nbformat": 4,
 "nbformat_minor": 2
}
