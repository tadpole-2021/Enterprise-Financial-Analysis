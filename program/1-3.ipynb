{
 "cells": [
  {
   "cell_type": "markdown",
   "id": "03263753",
   "metadata": {},
   "source": [
    "\n",
    "# 1-3"
   ]
  },
  {
   "cell_type": "code",
   "execution_count": 1,
   "id": "f9b87a5b",
   "metadata": {},
   "outputs": [],
   "source": [
    "import pandas as pd\n",
    "\n",
    "# 读取 LR_2.csv\n",
    "lr2_data = pd.read_csv('LR_2.csv')\n",
    "\n",
    "# 计算每列的空值占比\n",
    "na_percentages = lr2_data.isna().mean()\n",
    "\n",
    "# 筛选空值占比低于 70% 的列\n",
    "filtered_columns = na_percentages[na_percentages < 0.7].index\n",
    "\n",
    "# 保留筛选后的列数据\n",
    "filtered_data = lr2_data[filtered_columns]\n",
    "\n",
    "# 将处理后的数据另存为 LR_3.csv（编码为 UTF-8）\n",
    "filtered_data.to_csv('LR_3.csv', index=False, encoding='utf-8')"
   ]
  },
  {
   "cell_type": "code",
   "execution_count": 2,
   "id": "14ceccba",
   "metadata": {},
   "outputs": [
    {
     "data": {
      "text/plain": [
       "(33414, 17)"
      ]
     },
     "execution_count": 2,
     "metadata": {},
     "output_type": "execute_result"
    }
   ],
   "source": [
    "filtered_data.shape"
   ]
  },
  {
   "cell_type": "code",
   "execution_count": null,
   "id": "eb4725a0",
   "metadata": {},
   "outputs": [],
   "source": []
  },
  {
   "cell_type": "code",
   "execution_count": null,
   "id": "f334717b",
   "metadata": {},
   "outputs": [],
   "source": []
  }
 ],
 "metadata": {
  "kernelspec": {
   "display_name": "Python 3 (ipykernel)",
   "language": "python",
   "name": "python3"
  },
  "language_info": {
   "codemirror_mode": {
    "name": "ipython",
    "version": 3
   },
   "file_extension": ".py",
   "mimetype": "text/x-python",
   "name": "python",
   "nbconvert_exporter": "python",
   "pygments_lexer": "ipython3",
   "version": "3.9.12"
  }
 },
 "nbformat": 4,
 "nbformat_minor": 5
}
