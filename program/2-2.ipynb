{
 "cells": [
  {
   "cell_type": "markdown",
   "id": "96a8f042",
   "metadata": {},
   "source": [
    "# 2-2"
   ]
  },
  {
   "cell_type": "code",
   "execution_count": 2,
   "id": "b478615c",
   "metadata": {},
   "outputs": [],
   "source": [
    "import pandas as pd\n",
    "import matplotlib.pyplot as plt\n",
    "plt.rcParams['font.sans-serif'] = \"SimHei\"  # 正常显示中文\n",
    "\n",
    "# 消除警告的命令\n",
    "import warnings\n",
    "warnings.filterwarnings(\"ignore\")\n",
    "\n",
    "# 读取 LR_new.csv\n",
    "lr_new_data = pd.read_csv('LR_new.csv')"
   ]
  },
  {
   "cell_type": "markdown",
   "id": "e5c486b2",
   "metadata": {},
   "source": [
    "### 第一的行业大类"
   ]
  },
  {
   "cell_type": "code",
   "execution_count": 3,
   "id": "5f52b7bf",
   "metadata": {},
   "outputs": [],
   "source": [
    "# 将 Accper 列转换为日期时间对象\n",
    "lr_new_data['Accper'] = pd.to_datetime(lr_new_data['Accper'])\n",
    "\n",
    "# 筛选出2019年9月的数据\n",
    "september_2019_data = lr_new_data[(lr_new_data['Accper'].dt.year == 2019) & (lr_new_data['Accper'].dt.month == 9)]\n",
    "\n",
    "# 按行业大类进行分组，并计算利润率的均值\n",
    "mean_profit_rate_by_industry = september_2019_data.groupby('Indnme')['利润率'].mean()\n",
    "\n",
    "# 确定营业利润率均值排名第1的行业大类\n",
    "top_industry = mean_profit_rate_by_industry.idxmax()\n",
    "\n",
    "# 筛选出营业利润率排名第1的行业大类的数据\n",
    "top_industry_data = september_2019_data[september_2019_data['Indnme'] == top_industry]"
   ]
  },
  {
   "cell_type": "markdown",
   "id": "078f9151",
   "metadata": {},
   "source": [
    "### 图表1 数据"
   ]
  },
  {
   "cell_type": "code",
   "execution_count": 4,
   "id": "a8f536c7",
   "metadata": {},
   "outputs": [
    {
     "name": "stdout",
     "output_type": "stream",
     "text": [
      "2019年9月营业利润率均值排名第1的行业大类为：金融\n",
      "该行业大类不同细类的利润率统计结果：\n",
      "Nindnme\n",
      "保险业       0.020105\n",
      "其他金融业     0.162425\n",
      "证券、期货业    0.370759\n",
      "银行业       0.152000\n",
      "Name: 利润率, dtype: float64\n"
     ]
    }
   ],
   "source": [
    "# 统计该行业大类下不同细类的利润率\n",
    "profit_rate_by_subcategory = top_industry_data.groupby('Nindnme')['利润率'].mean()\n",
    "\n",
    "# 输出统计结果\n",
    "print(f\"2019年9月营业利润率均值排名第1的行业大类为：{top_industry}\")\n",
    "print(\"该行业大类不同细类的利润率统计结果：\")\n",
    "print(profit_rate_by_subcategory)"
   ]
  },
  {
   "cell_type": "markdown",
   "id": "bc145443",
   "metadata": {},
   "source": [
    "### 图表1 绘制"
   ]
  },
  {
   "cell_type": "code",
   "execution_count": 8,
   "id": "1f3911fc",
   "metadata": {},
   "outputs": [
    {
     "data": {
      "image/png": "[encoded data removed]",
      "text/plain": [
       "<Figure size 720x432 with 1 Axes>"
      ]
     },
     "metadata": {
      "needs_background": "light"
     },
     "output_type": "display_data"
    }
   ],
   "source": [
    "# 排序，获取利润率排名前三的细类\n",
    "top_3_subcategories = profit_rate_by_subcategory.nlargest(3)\n",
    "\n",
    "# 提取排名前三细类的利润率和细类名称\n",
    "profit_rates = top_3_subcategories.values\n",
    "subcategories = top_3_subcategories.index\n",
    "\n",
    "# 设置图表尺寸\n",
    "plt.figure(figsize=(10, 6))\n",
    "\n",
    "# 绘制柱状图\n",
    "plt.bar(subcategories, profit_rates)\n",
    "plt.title('2019 年该行业各细类利润率对比')\n",
    "plt.xlabel('细类')\n",
    "plt.ylabel('利润率')\n",
    "plt.show()"
   ]
  },
  {
   "cell_type": "markdown",
   "id": "1fa95e88",
   "metadata": {},
   "source": [
    "### 图表2 数据"
   ]
  },
  {
   "cell_type": "code",
   "execution_count": 9,
   "id": "04e673c2",
   "metadata": {},
   "outputs": [
    {
     "name": "stdout",
     "output_type": "stream",
     "text": [
      "        Stkcd Indnme Nindnme       利润率\n",
      "23392  300059     金融  证券、期货业  0.535592\n",
      "26290  600783     金融  证券、期货业  0.527919\n",
      "23773  600864     金融  证券、期货业  0.502979\n",
      "25896  600155     金融  证券、期货业  0.376119\n",
      "24588  300309     金融  证券、期货业  0.347491\n",
      "23768     666     金融  证券、期货业  0.206768\n",
      "26053  600621     金融  证券、期货业  0.098445\n"
     ]
    }
   ],
   "source": [
    "# 将 Accper 列转换为日期时间对象\n",
    "lr_new_data['Accper'] = pd.to_datetime(lr_new_data['Accper'])\n",
    "\n",
    "# 筛选出2019年9月的数据\n",
    "september_2019_data = lr_new_data[(lr_new_data['Accper'].dt.year == 2019) & (lr_new_data['Accper'].dt.month == 9)]\n",
    "\n",
    "# 按行业大类进行分组，并计算利润率的均值\n",
    "mean_profit_rate_by_industry = september_2019_data.groupby('Indnme')['利润率'].mean()\n",
    "\n",
    "# 确定营业利润率均值排名第1的行业大类\n",
    "top_industry = mean_profit_rate_by_industry.idxmax()\n",
    "\n",
    "# 筛选出营业利润率排名第1的行业大类的数据\n",
    "top_industry_data = september_2019_data[september_2019_data['Indnme'] == top_industry]\n",
    "\n",
    "# 确定利润率排名第1的细类\n",
    "top_subcategory = top_industry_data.groupby('Nindnme')['利润率'].mean().idxmax()\n",
    "\n",
    "# 筛选出利润率排名第1的细类的数据\n",
    "top_subcategory_data = top_industry_data[top_industry_data['Nindnme'] == top_subcategory]\n",
    "\n",
    "# 按利润率降序排序\n",
    "sorted_data = top_subcategory_data.sort_values(by='利润率', ascending=False)\n",
    "\n",
    "# 输出排序结果\n",
    "print(sorted_data[['Stkcd','Indnme','Nindnme', '利润率']])"
   ]
  },
  {
   "cell_type": "code",
   "execution_count": 10,
   "id": "f5bfd92e",
   "metadata": {},
   "outputs": [
    {
     "data": {
      "text/plain": [
       "(7, 19)"
      ]
     },
     "execution_count": 10,
     "metadata": {},
     "output_type": "execute_result"
    }
   ],
   "source": [
    "sorted_data.shape"
   ]
  },
  {
   "cell_type": "code",
   "execution_count": 11,
   "id": "7528370e",
   "metadata": {},
   "outputs": [
    {
     "data": {
      "text/html": [
       "<div>\n",
       "<style scoped>\n",
       "    .dataframe tbody tr th:only-of-type {\n",
       "        vertical-align: middle;\n",
       "    }\n",
       "\n",
       "    .dataframe tbody tr th {\n",
       "        vertical-align: top;\n",
       "    }\n",
       "\n",
       "    .dataframe thead th {\n",
       "        text-align: right;\n",
       "    }\n",
       "</style>\n",
       "<table border=\"1\" class=\"dataframe\">\n",
       "  <thead>\n",
       "    <tr style=\"text-align: right;\">\n",
       "      <th></th>\n",
       "      <th>Stkcd</th>\n",
       "      <th>Accper</th>\n",
       "      <th>Typrep</th>\n",
       "      <th>B001000000</th>\n",
       "      <th>B001100000</th>\n",
       "      <th>B001101000</th>\n",
       "      <th>B001200000</th>\n",
       "      <th>B001201000</th>\n",
       "      <th>B001207000</th>\n",
       "      <th>B001209000</th>\n",
       "      <th>B001210000</th>\n",
       "      <th>B001211000</th>\n",
       "      <th>B001212000</th>\n",
       "      <th>A002000000</th>\n",
       "      <th>A001000000</th>\n",
       "      <th>Indnme</th>\n",
       "      <th>Nindnme</th>\n",
       "      <th>利润率</th>\n",
       "      <th>资产负债率</th>\n",
       "    </tr>\n",
       "  </thead>\n",
       "  <tbody>\n",
       "    <tr>\n",
       "      <th>23392</th>\n",
       "      <td>300059</td>\n",
       "      <td>2019-09-30</td>\n",
       "      <td>A</td>\n",
       "      <td>1.658602e+09</td>\n",
       "      <td>3.096765e+09</td>\n",
       "      <td>1.059071e+09</td>\n",
       "      <td>1.669572e+09</td>\n",
       "      <td>2.891800e+08</td>\n",
       "      <td>31118310.78</td>\n",
       "      <td>2.459533e+08</td>\n",
       "      <td>1.077037e+09</td>\n",
       "      <td>9.597721e+06</td>\n",
       "      <td>1.668479e+07</td>\n",
       "      <td>3.255539e+10</td>\n",
       "      <td>5.333240e+10</td>\n",
       "      <td>金融</td>\n",
       "      <td>证券、期货业</td>\n",
       "      <td>0.535592</td>\n",
       "      <td>0.610424</td>\n",
       "    </tr>\n",
       "    <tr>\n",
       "      <th>26290</th>\n",
       "      <td>600783</td>\n",
       "      <td>2019-09-30</td>\n",
       "      <td>A</td>\n",
       "      <td>8.265894e+07</td>\n",
       "      <td>1.565751e+08</td>\n",
       "      <td>1.565751e+08</td>\n",
       "      <td>2.421734e+08</td>\n",
       "      <td>1.104838e+08</td>\n",
       "      <td>3876480.46</td>\n",
       "      <td>9.689093e+06</td>\n",
       "      <td>6.229195e+07</td>\n",
       "      <td>5.450320e+07</td>\n",
       "      <td>1.328839e+06</td>\n",
       "      <td>2.396555e+09</td>\n",
       "      <td>6.025004e+09</td>\n",
       "      <td>金融</td>\n",
       "      <td>证券、期货业</td>\n",
       "      <td>0.527919</td>\n",
       "      <td>0.397768</td>\n",
       "    </tr>\n",
       "    <tr>\n",
       "      <th>23773</th>\n",
       "      <td>600864</td>\n",
       "      <td>2019-09-30</td>\n",
       "      <td>A</td>\n",
       "      <td>7.543090e+08</td>\n",
       "      <td>1.499683e+09</td>\n",
       "      <td>7.957091e+08</td>\n",
       "      <td>1.831163e+09</td>\n",
       "      <td>6.380509e+08</td>\n",
       "      <td>17102010.12</td>\n",
       "      <td>1.431345e+05</td>\n",
       "      <td>9.203788e+08</td>\n",
       "      <td>1.687038e+07</td>\n",
       "      <td>1.217790e+08</td>\n",
       "      <td>2.738869e+10</td>\n",
       "      <td>4.094630e+10</td>\n",
       "      <td>金融</td>\n",
       "      <td>证券、期货业</td>\n",
       "      <td>0.502979</td>\n",
       "      <td>0.668893</td>\n",
       "    </tr>\n",
       "    <tr>\n",
       "      <th>25896</th>\n",
       "      <td>600155</td>\n",
       "      <td>2019-09-30</td>\n",
       "      <td>A</td>\n",
       "      <td>4.658303e+08</td>\n",
       "      <td>1.238518e+09</td>\n",
       "      <td>1.654022e+08</td>\n",
       "      <td>1.652482e+09</td>\n",
       "      <td>2.131925e+07</td>\n",
       "      <td>17063827.20</td>\n",
       "      <td>8.261953e+05</td>\n",
       "      <td>1.205688e+09</td>\n",
       "      <td>2.095434e+07</td>\n",
       "      <td>2.037906e+08</td>\n",
       "      <td>2.734862e+10</td>\n",
       "      <td>4.251582e+10</td>\n",
       "      <td>金融</td>\n",
       "      <td>证券、期货业</td>\n",
       "      <td>0.376119</td>\n",
       "      <td>0.643257</td>\n",
       "    </tr>\n",
       "    <tr>\n",
       "      <th>24588</th>\n",
       "      <td>300309</td>\n",
       "      <td>2019-09-30</td>\n",
       "      <td>A</td>\n",
       "      <td>2.623341e+08</td>\n",
       "      <td>7.549383e+08</td>\n",
       "      <td>7.549383e+08</td>\n",
       "      <td>4.992759e+08</td>\n",
       "      <td>3.727912e+08</td>\n",
       "      <td>1618598.77</td>\n",
       "      <td>1.226439e+07</td>\n",
       "      <td>5.491526e+07</td>\n",
       "      <td>1.105298e+07</td>\n",
       "      <td>4.663348e+07</td>\n",
       "      <td>5.631812e+09</td>\n",
       "      <td>7.783133e+09</td>\n",
       "      <td>金融</td>\n",
       "      <td>证券、期货业</td>\n",
       "      <td>0.347491</td>\n",
       "      <td>0.723592</td>\n",
       "    </tr>\n",
       "    <tr>\n",
       "      <th>23768</th>\n",
       "      <td>666</td>\n",
       "      <td>2019-09-30</td>\n",
       "      <td>A</td>\n",
       "      <td>1.509691e+09</td>\n",
       "      <td>7.301373e+09</td>\n",
       "      <td>3.900351e+09</td>\n",
       "      <td>5.985853e+09</td>\n",
       "      <td>2.800197e+09</td>\n",
       "      <td>55708106.17</td>\n",
       "      <td>1.206240e+08</td>\n",
       "      <td>2.676421e+09</td>\n",
       "      <td>3.132728e+08</td>\n",
       "      <td>1.962973e+07</td>\n",
       "      <td>1.321529e+10</td>\n",
       "      <td>3.484747e+10</td>\n",
       "      <td>金融</td>\n",
       "      <td>证券、期货业</td>\n",
       "      <td>0.206768</td>\n",
       "      <td>0.379232</td>\n",
       "    </tr>\n",
       "    <tr>\n",
       "      <th>26053</th>\n",
       "      <td>600621</td>\n",
       "      <td>2019-09-30</td>\n",
       "      <td>A</td>\n",
       "      <td>6.899693e+07</td>\n",
       "      <td>7.008659e+08</td>\n",
       "      <td>1.096942e+08</td>\n",
       "      <td>9.351524e+08</td>\n",
       "      <td>6.115611e+07</td>\n",
       "      <td>6341965.18</td>\n",
       "      <td>4.969891e+06</td>\n",
       "      <td>4.703486e+07</td>\n",
       "      <td>-8.465232e+06</td>\n",
       "      <td>7.053953e+06</td>\n",
       "      <td>1.514986e+10</td>\n",
       "      <td>2.176735e+10</td>\n",
       "      <td>金融</td>\n",
       "      <td>证券、期货业</td>\n",
       "      <td>0.098445</td>\n",
       "      <td>0.695990</td>\n",
       "    </tr>\n",
       "  </tbody>\n",
       "</table>\n",
       "</div>"
      ],
      "text/plain": [
       "        Stkcd     Accper Typrep    B001000000    B001100000    B001101000  \\\n",
       "23392  300059 2019-09-30      A  1.658602e+09  3.096765e+09  1.059071e+09   \n",
       "26290  600783 2019-09-30      A  8.265894e+07  1.565751e+08  1.565751e+08   \n",
       "23773  600864 2019-09-30      A  7.543090e+08  1.499683e+09  7.957091e+08   \n",
       "25896  600155 2019-09-30      A  4.658303e+08  1.238518e+09  1.654022e+08   \n",
       "24588  300309 2019-09-30      A  2.623341e+08  7.549383e+08  7.549383e+08   \n",
       "23768     666 2019-09-30      A  1.509691e+09  7.301373e+09  3.900351e+09   \n",
       "26053  600621 2019-09-30      A  6.899693e+07  7.008659e+08  1.096942e+08   \n",
       "\n",
       "         B001200000    B001201000   B001207000    B001209000    B001210000  \\\n",
       "23392  1.669572e+09  2.891800e+08  31118310.78  2.459533e+08  1.077037e+09   \n",
       "26290  2.421734e+08  1.104838e+08   3876480.46  9.689093e+06  6.229195e+07   \n",
       "23773  1.831163e+09  6.380509e+08  17102010.12  1.431345e+05  9.203788e+08   \n",
       "25896  1.652482e+09  2.131925e+07  17063827.20  8.261953e+05  1.205688e+09   \n",
       "24588  4.992759e+08  3.727912e+08   1618598.77  1.226439e+07  5.491526e+07   \n",
       "23768  5.985853e+09  2.800197e+09  55708106.17  1.206240e+08  2.676421e+09   \n",
       "26053  9.351524e+08  6.115611e+07   6341965.18  4.969891e+06  4.703486e+07   \n",
       "\n",
       "         B001211000    B001212000    A002000000    A001000000 Indnme Nindnme  \\\n",
       "23392  9.597721e+06  1.668479e+07  3.255539e+10  5.333240e+10     金融  证券、期货业   \n",
       "26290  5.450320e+07  1.328839e+06  2.396555e+09  6.025004e+09     金融  证券、期货业   \n",
       "23773  1.687038e+07  1.217790e+08  2.738869e+10  4.094630e+10     金融  证券、期货业   \n",
       "25896  2.095434e+07  2.037906e+08  2.734862e+10  4.251582e+10     金融  证券、期货业   \n",
       "24588  1.105298e+07  4.663348e+07  5.631812e+09  7.783133e+09     金融  证券、期货业   \n",
       "23768  3.132728e+08  1.962973e+07  1.321529e+10  3.484747e+10     金融  证券、期货业   \n",
       "26053 -8.465232e+06  7.053953e+06  1.514986e+10  2.176735e+10     金融  证券、期货业   \n",
       "\n",
       "            利润率     资产负债率  \n",
       "23392  0.535592  0.610424  \n",
       "26290  0.527919  0.397768  \n",
       "23773  0.502979  0.668893  \n",
       "25896  0.376119  0.643257  \n",
       "24588  0.347491  0.723592  \n",
       "23768  0.206768  0.379232  \n",
       "26053  0.098445  0.695990  "
      ]
     },
     "execution_count": 11,
     "metadata": {},
     "output_type": "execute_result"
    }
   ],
   "source": [
    "sorted_data"
   ]
  },
  {
   "cell_type": "markdown",
   "id": "9fcd9218",
   "metadata": {},
   "source": [
    "### 图表3 绘制"
   ]
  },
  {
   "cell_type": "code",
   "execution_count": null,
   "id": "d233d9a9",
   "metadata": {},
   "outputs": [],
   "source": []
  },
  {
   "cell_type": "code",
   "execution_count": 41,
   "id": "ecad1ab2",
   "metadata": {},
   "outputs": [
    {
     "data": {
      "image/png": "[encoded data removed]",
      "text/plain": [
       "<Figure size 720x432 with 1 Axes>"
      ]
     },
     "metadata": {
      "needs_background": "light"
     },
     "output_type": "display_data"
    }
   ],
   "source": [
    "# 获取排名前5的企业数据\n",
    "top_5_companies = sorted_data.head(5)\n",
    "\n",
    "# 设置图表尺寸\n",
    "plt.figure(figsize=(10, 6))\n",
    "x=[1,2,3,4,5]\n",
    "x_label = top_5_companies['Stkcd'].to_list()\n",
    "y = top_5_companies['利润率'].to_list()\n",
    "\n",
    "# 绘制柱状图\n",
    "plt.bar(x, y)\n",
    "plt.title('2019 年该行业利润率排名第 1 细类的企业利润率对比 ')\n",
    "plt.xlabel('企业代码')\n",
    "plt.ylabel('利润率')\n",
    "\n",
    "plt.xticks(x, x_label)  # 绘制x刻度标签\n",
    "\n",
    "# 将利润率排名第1的企业标记为\"T1\"\n",
    "plt.annotate('T1', xy=(1, y[0]), xytext=(5, 10),textcoords='offset points', ha='center', va='bottom', fontsize=20, color='red')\n",
    "\n",
    "plt.show()"
   ]
  },
  {
   "cell_type": "code",
   "execution_count": null,
   "id": "ab04e35b",
   "metadata": {},
   "outputs": [],
   "source": []
  },
  {
   "cell_type": "code",
   "execution_count": null,
   "id": "cdde91ba",
   "metadata": {},
   "outputs": [],
   "source": []
  },
  {
   "cell_type": "markdown",
   "id": "fa2cde78",
   "metadata": {},
   "source": [
    "### 图表3 数据"
   ]
  },
  {
   "cell_type": "code",
   "execution_count": 33,
   "id": "64a3e624",
   "metadata": {},
   "outputs": [
    {
     "data": {
      "text/html": [
       "<div>\n",
       "<style scoped>\n",
       "    .dataframe tbody tr th:only-of-type {\n",
       "        vertical-align: middle;\n",
       "    }\n",
       "\n",
       "    .dataframe tbody tr th {\n",
       "        vertical-align: top;\n",
       "    }\n",
       "\n",
       "    .dataframe thead th {\n",
       "        text-align: right;\n",
       "    }\n",
       "</style>\n",
       "<table border=\"1\" class=\"dataframe\">\n",
       "  <thead>\n",
       "    <tr style=\"text-align: right;\">\n",
       "      <th></th>\n",
       "      <th>Stkcd</th>\n",
       "      <th>Accper</th>\n",
       "      <th>Typrep</th>\n",
       "      <th>B001000000</th>\n",
       "      <th>B001100000</th>\n",
       "      <th>B001101000</th>\n",
       "      <th>B001200000</th>\n",
       "      <th>B001201000</th>\n",
       "      <th>B001207000</th>\n",
       "      <th>B001209000</th>\n",
       "      <th>B001210000</th>\n",
       "      <th>B001211000</th>\n",
       "      <th>B001212000</th>\n",
       "      <th>A002000000</th>\n",
       "      <th>A001000000</th>\n",
       "      <th>Indnme</th>\n",
       "      <th>Nindnme</th>\n",
       "      <th>利润率</th>\n",
       "      <th>资产负债率</th>\n",
       "    </tr>\n",
       "  </thead>\n",
       "  <tbody>\n",
       "    <tr>\n",
       "      <th>23392</th>\n",
       "      <td>300059</td>\n",
       "      <td>2019-09-30</td>\n",
       "      <td>A</td>\n",
       "      <td>1.658602e+09</td>\n",
       "      <td>3.096765e+09</td>\n",
       "      <td>1.059071e+09</td>\n",
       "      <td>1.669572e+09</td>\n",
       "      <td>289180011.2</td>\n",
       "      <td>31118310.78</td>\n",
       "      <td>245953275.2</td>\n",
       "      <td>1.077037e+09</td>\n",
       "      <td>9597721.44</td>\n",
       "      <td>16684787.5</td>\n",
       "      <td>3.255539e+10</td>\n",
       "      <td>5.333240e+10</td>\n",
       "      <td>金融</td>\n",
       "      <td>证券、期货业</td>\n",
       "      <td>0.535592</td>\n",
       "      <td>0.610424</td>\n",
       "    </tr>\n",
       "  </tbody>\n",
       "</table>\n",
       "</div>"
      ],
      "text/plain": [
       "        Stkcd     Accper Typrep    B001000000    B001100000    B001101000  \\\n",
       "23392  300059 2019-09-30      A  1.658602e+09  3.096765e+09  1.059071e+09   \n",
       "\n",
       "         B001200000   B001201000   B001207000   B001209000    B001210000  \\\n",
       "23392  1.669572e+09  289180011.2  31118310.78  245953275.2  1.077037e+09   \n",
       "\n",
       "       B001211000  B001212000    A002000000    A001000000 Indnme Nindnme  \\\n",
       "23392  9597721.44  16684787.5  3.255539e+10  5.333240e+10     金融  证券、期货业   \n",
       "\n",
       "            利润率     资产负债率  \n",
       "23392  0.535592  0.610424  "
      ]
     },
     "execution_count": 33,
     "metadata": {},
     "output_type": "execute_result"
    }
   ],
   "source": [
    "# 将 Accper 列转换为日期时间对象\n",
    "lr_new_data['Accper'] = pd.to_datetime(lr_new_data['Accper'])\n",
    "\n",
    "# 确定企业代码和日期\n",
    "T1 = 300059\n",
    "\n",
    "# 筛选出指定企业和日期的财务报表数据\n",
    "financial_data = lr_new_data[(lr_new_data['Stkcd'] == T1) & (lr_new_data['Accper'].dt.year == 2019) & (lr_new_data['Accper'].dt.month == 9)]\n",
    "\n",
    "\n",
    "financial_data"
   ]
  },
  {
   "cell_type": "code",
   "execution_count": null,
   "id": "389043b0",
   "metadata": {},
   "outputs": [],
   "source": []
  },
  {
   "cell_type": "markdown",
   "id": "3b75cbb3",
   "metadata": {},
   "source": [
    "### 图表3 绘制"
   ]
  },
  {
   "cell_type": "code",
   "execution_count": 38,
   "id": "aed33d11",
   "metadata": {},
   "outputs": [
    {
     "name": "stdout",
     "output_type": "stream",
     "text": [
      "[289180011.2, 31118310.78, 245953275.2, 1077037488.0, 9597721.44]\n"
     ]
    }
   ],
   "source": [
    "# 确定财务报表项目和对应的列名\n",
    "labels = [ '营业成本','营业税金及附加','销售费用','管理费用','财务费用']\n",
    "values = ['B001201000', 'B001207000', 'B001209000', 'B001210000', 'B001211000']\n",
    "\n",
    "values_data = []\n",
    "for i in values:\n",
    "    values_data.append(financial_data[i].values[0])\n",
    "print(values_data)"
   ]
  },
  {
   "cell_type": "code",
   "execution_count": 40,
   "id": "357c112a",
   "metadata": {},
   "outputs": [
    {
     "data": {
      "image/png": "[encoded data removed]",
      "text/plain": [
       "<Figure size 576x576 with 1 Axes>"
      ]
     },
     "metadata": {},
     "output_type": "display_data"
    }
   ],
   "source": [
    "# 设置图表尺寸\n",
    "plt.figure(figsize=(8, 8))\n",
    "\n",
    "# 绘制饼图\n",
    "plt.pie(values_data, labels=labels, autopct='%1.1f%%', startangle=90)\n",
    "\n",
    "# 添加标题\n",
    "plt.title('2019 年企业“T1” 营业总成本分析 ')\n",
    "\n",
    "plt.show()"
   ]
  },
  {
   "cell_type": "code",
   "execution_count": null,
   "id": "8503bbc9",
   "metadata": {},
   "outputs": [],
   "source": []
  },
  {
   "cell_type": "markdown",
   "id": "07d1e9d3",
   "metadata": {},
   "source": [
    "### 图表4 数据 "
   ]
  },
  {
   "cell_type": "code",
   "execution_count": 44,
   "id": "4ff00ba9",
   "metadata": {},
   "outputs": [],
   "source": [
    "# 将 Accper 列转换为日期时间对象\n",
    "lr_new_data['Accper'] = pd.to_datetime(lr_new_data['Accper'])\n",
    "\n",
    "# 确定企业代码和季度日期\n",
    "T1 = 300059\n",
    "quarters = ['2019-03-31', '2019-06-30', '2019-09-30']"
   ]
  },
  {
   "cell_type": "code",
   "execution_count": 45,
   "id": "8f37beac",
   "metadata": {},
   "outputs": [
    {
     "data": {
      "text/html": [
       "<div>\n",
       "<style scoped>\n",
       "    .dataframe tbody tr th:only-of-type {\n",
       "        vertical-align: middle;\n",
       "    }\n",
       "\n",
       "    .dataframe tbody tr th {\n",
       "        vertical-align: top;\n",
       "    }\n",
       "\n",
       "    .dataframe thead th {\n",
       "        text-align: right;\n",
       "    }\n",
       "</style>\n",
       "<table border=\"1\" class=\"dataframe\">\n",
       "  <thead>\n",
       "    <tr style=\"text-align: right;\">\n",
       "      <th></th>\n",
       "      <th>Stkcd</th>\n",
       "      <th>Accper</th>\n",
       "      <th>Typrep</th>\n",
       "      <th>B001000000</th>\n",
       "      <th>B001100000</th>\n",
       "      <th>B001101000</th>\n",
       "      <th>B001200000</th>\n",
       "      <th>B001201000</th>\n",
       "      <th>B001207000</th>\n",
       "      <th>B001209000</th>\n",
       "      <th>B001210000</th>\n",
       "      <th>B001211000</th>\n",
       "      <th>B001212000</th>\n",
       "      <th>A002000000</th>\n",
       "      <th>A001000000</th>\n",
       "      <th>Indnme</th>\n",
       "      <th>Nindnme</th>\n",
       "      <th>利润率</th>\n",
       "      <th>资产负债率</th>\n",
       "    </tr>\n",
       "  </thead>\n",
       "  <tbody>\n",
       "    <tr>\n",
       "      <th>18559</th>\n",
       "      <td>300059</td>\n",
       "      <td>2019-03-31</td>\n",
       "      <td>A</td>\n",
       "      <td>4.590224e+08</td>\n",
       "      <td>9.267591e+08</td>\n",
       "      <td>3.210003e+08</td>\n",
       "      <td>5.620134e+08</td>\n",
       "      <td>9.564718e+07</td>\n",
       "      <td>9126762.03</td>\n",
       "      <td>8.147275e+07</td>\n",
       "      <td>3.342576e+08</td>\n",
       "      <td>32763933.62</td>\n",
       "      <td>8745140.51</td>\n",
       "      <td>4.551168e+10</td>\n",
       "      <td>6.380477e+10</td>\n",
       "      <td>金融</td>\n",
       "      <td>证券、期货业</td>\n",
       "      <td>0.495299</td>\n",
       "      <td>0.713296</td>\n",
       "    </tr>\n",
       "    <tr>\n",
       "      <th>19804</th>\n",
       "      <td>300059</td>\n",
       "      <td>2019-06-30</td>\n",
       "      <td>A</td>\n",
       "      <td>1.043203e+09</td>\n",
       "      <td>1.997742e+09</td>\n",
       "      <td>6.769593e+08</td>\n",
       "      <td>1.130847e+09</td>\n",
       "      <td>1.859926e+08</td>\n",
       "      <td>21624423.91</td>\n",
       "      <td>1.641269e+08</td>\n",
       "      <td>7.178001e+08</td>\n",
       "      <td>30216914.19</td>\n",
       "      <td>11086031.84</td>\n",
       "      <td>3.420219e+10</td>\n",
       "      <td>5.444673e+10</td>\n",
       "      <td>金融</td>\n",
       "      <td>证券、期货业</td>\n",
       "      <td>0.522191</td>\n",
       "      <td>0.628177</td>\n",
       "    </tr>\n",
       "    <tr>\n",
       "      <th>23392</th>\n",
       "      <td>300059</td>\n",
       "      <td>2019-09-30</td>\n",
       "      <td>A</td>\n",
       "      <td>1.658602e+09</td>\n",
       "      <td>3.096765e+09</td>\n",
       "      <td>1.059071e+09</td>\n",
       "      <td>1.669572e+09</td>\n",
       "      <td>2.891800e+08</td>\n",
       "      <td>31118310.78</td>\n",
       "      <td>2.459533e+08</td>\n",
       "      <td>1.077037e+09</td>\n",
       "      <td>9597721.44</td>\n",
       "      <td>16684787.50</td>\n",
       "      <td>3.255539e+10</td>\n",
       "      <td>5.333240e+10</td>\n",
       "      <td>金融</td>\n",
       "      <td>证券、期货业</td>\n",
       "      <td>0.535592</td>\n",
       "      <td>0.610424</td>\n",
       "    </tr>\n",
       "  </tbody>\n",
       "</table>\n",
       "</div>"
      ],
      "text/plain": [
       "        Stkcd     Accper Typrep    B001000000    B001100000    B001101000  \\\n",
       "18559  300059 2019-03-31      A  4.590224e+08  9.267591e+08  3.210003e+08   \n",
       "19804  300059 2019-06-30      A  1.043203e+09  1.997742e+09  6.769593e+08   \n",
       "23392  300059 2019-09-30      A  1.658602e+09  3.096765e+09  1.059071e+09   \n",
       "\n",
       "         B001200000    B001201000   B001207000    B001209000    B001210000  \\\n",
       "18559  5.620134e+08  9.564718e+07   9126762.03  8.147275e+07  3.342576e+08   \n",
       "19804  1.130847e+09  1.859926e+08  21624423.91  1.641269e+08  7.178001e+08   \n",
       "23392  1.669572e+09  2.891800e+08  31118310.78  2.459533e+08  1.077037e+09   \n",
       "\n",
       "        B001211000   B001212000    A002000000    A001000000 Indnme Nindnme  \\\n",
       "18559  32763933.62   8745140.51  4.551168e+10  6.380477e+10     金融  证券、期货业   \n",
       "19804  30216914.19  11086031.84  3.420219e+10  5.444673e+10     金融  证券、期货业   \n",
       "23392   9597721.44  16684787.50  3.255539e+10  5.333240e+10     金融  证券、期货业   \n",
       "\n",
       "            利润率     资产负债率  \n",
       "18559  0.495299  0.713296  \n",
       "19804  0.522191  0.628177  \n",
       "23392  0.535592  0.610424  "
      ]
     },
     "execution_count": 45,
     "metadata": {},
     "output_type": "execute_result"
    }
   ],
   "source": [
    "# 筛选出指定企业和季度的财务报表数据\n",
    "financial_data = lr_new_data[(lr_new_data['Stkcd'] == T1) & (lr_new_data['Accper'].isin(quarters))]\n",
    "financial_data"
   ]
  },
  {
   "cell_type": "code",
   "execution_count": 62,
   "id": "af590cda",
   "metadata": {},
   "outputs": [
    {
     "name": "stdout",
     "output_type": "stream",
     "text": [
      "[926759053.3, 1997742040.0, 3096764842.0] [562013399.1, 1130847075.0, 1669571594.0]\n"
     ]
    }
   ],
   "source": [
    "a = ['营业总收入','营业总成本']\n",
    "a_v = ['B001100000','B001200000']\n",
    "\n",
    "zsr_data = []\n",
    "zcb_data = []\n",
    "v = []\n",
    "for i in a_v:\n",
    "    for n in financial_data[i]:\n",
    "        v.append(n)\n",
    "zsr_data, zcb_data = v[:3],v[3:]\n",
    "print(zsr_data, zcb_data)"
   ]
  },
  {
   "cell_type": "code",
   "execution_count": 71,
   "id": "5a06e318",
   "metadata": {},
   "outputs": [
    {
     "name": "stdout",
     "output_type": "stream",
     "text": [
      "[0.4952985752505084, 0.522190817989694, 0.5355918429792094] [0.7132959638678065, 0.6281771278152665, 0.6104242502996307]\n"
     ]
    }
   ],
   "source": [
    "b = ['利润率','资产负债率']\n",
    "\n",
    "lrl_data = []\n",
    "zcfzl_data = []\n",
    "v = []\n",
    "for i in b:\n",
    "    for n in financial_data[i]:\n",
    "        v.append(n)\n",
    "lrl_data, zcfzl_data = v[:3],v[3:]\n",
    "print(lrl_data, zcfzl_data)"
   ]
  },
  {
   "cell_type": "markdown",
   "id": "789c6f86",
   "metadata": {},
   "source": [
    "### 图表4 绘制"
   ]
  },
  {
   "cell_type": "code",
   "execution_count": 73,
   "id": "4dfd9706",
   "metadata": {},
   "outputs": [
    {
     "data": {
      "image/png": "[encoded data removed]",
      "text/plain": [
       "<Figure size 720x432 with 2 Axes>"
      ]
     },
     "metadata": {
      "needs_background": "light"
     },
     "output_type": "display_data"
    }
   ],
   "source": [
    "# 三个季度\n",
    "quarters = ['2019-03-31', '2019-06-30', '2019-09-30']\n",
    "# 总收入\n",
    "zsr_data = [926759053.3, 1997742040.0, 3096764842.0]\n",
    "# 总成本\n",
    "zcb_data = [562013399.1, 1130847075.0, 1669571594.0]\n",
    "# 利润率\n",
    "lrl_data = [0.4952985752505084, 0.522190817989694, 0.5355918429792094]\n",
    "# 资产负债率\n",
    "zcfzl = [0.7132959638678065, 0.6281771278152665, 0.6104242502996307]\n",
    "\n",
    "# 绘制柱状图\n",
    "plt.figure(figsize=(10, 6))\n",
    "bar_width = 0.35\n",
    "index = range(len(quarters))\n",
    "\n",
    "plt.bar(index, zsr_data, width=bar_width, label='营业总收入')\n",
    "plt.bar([i + bar_width for i in index], zcb_data, width=bar_width, label='营业总成本')\n",
    "\n",
    "plt.xlabel('季度')\n",
    "plt.ylabel('金额')\n",
    "plt.xticks([i + bar_width/2 for i in index], quarters)\n",
    "plt.legend()\n",
    "\n",
    "# 创建副坐标轴\n",
    "ax2 = plt.twinx()\n",
    "\n",
    "# 绘制折线图\n",
    "ax2.plot(quarters, lrl_data, marker='o', linestyle='-', color='r', label='利润率')\n",
    "ax2.plot(quarters, zcfzl, marker='o', linestyle='-', color='g', label='资产负债率')\n",
    "\n",
    "ax2.set_ylabel('比率')\n",
    "\n",
    "# 设置副坐标轴标签\n",
    "ax2.set_xlabel('季度')\n",
    "\n",
    "# 添加标题和图例\n",
    "plt.title('2019 年企业“T1” 经营情况分析 ')\n",
    "ax2.legend(loc='upper right')\n",
    "\n",
    "plt.show()"
   ]
  },
  {
   "cell_type": "code",
   "execution_count": null,
   "id": "33af3227",
   "metadata": {},
   "outputs": [],
   "source": []
  },
  {
   "cell_type": "code",
   "execution_count": null,
   "id": "33842771",
   "metadata": {},
   "outputs": [],
   "source": []
  }
 ],
 "metadata": {
  "kernelspec": {
   "display_name": "Python 3 (ipykernel)",
   "language": "python",
   "name": "python3"
  },
  "language_info": {
   "codemirror_mode": {
    "name": "ipython",
    "version": 3
   },
   "file_extension": ".py",
   "mimetype": "text/x-python",
   "name": "python",
   "nbconvert_exporter": "python",
   "pygments_lexer": "ipython3",
   "version": "3.9.12"
  }
 },
 "nbformat": 4,
 "nbformat_minor": 5
}
