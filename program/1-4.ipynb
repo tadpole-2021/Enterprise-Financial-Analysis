{
 "cells": [
  {
   "cell_type": "markdown",
   "id": "321d9b0f",
   "metadata": {},
   "source": [
    "# 1-4"
   ]
  },
  {
   "cell_type": "code",
   "execution_count": 1,
   "id": "880924c3",
   "metadata": {},
   "outputs": [],
   "source": [
    "import pandas as pd\n",
    "\n",
    "# 读取 LR_3.csv\n",
    "lr3_data = pd.read_csv('LR_3.csv')\n",
    "\n",
    "# 删除包含空值的行\n",
    "filtered_data = lr3_data.dropna()\n",
    "\n",
    "# 将处理后的数据另存为 LR_4.csv（编码为 UTF-8）\n",
    "filtered_data.to_csv('LR_4.csv', index=False, encoding='utf-8')"
   ]
  },
  {
   "cell_type": "code",
   "execution_count": 2,
   "id": "a6f9a633",
   "metadata": {},
   "outputs": [
    {
     "data": {
      "text/plain": [
       "(30888, 17)"
      ]
     },
     "execution_count": 2,
     "metadata": {},
     "output_type": "execute_result"
    }
   ],
   "source": [
    "filtered_data.shape"
   ]
  },
  {
   "cell_type": "code",
   "execution_count": null,
   "id": "b97d951d",
   "metadata": {},
   "outputs": [],
   "source": []
  },
  {
   "cell_type": "code",
   "execution_count": null,
   "id": "ca8a3120",
   "metadata": {},
   "outputs": [],
   "source": []
  }
 ],
 "metadata": {
  "kernelspec": {
   "display_name": "Python 3 (ipykernel)",
   "language": "python",
   "name": "python3"
  },
  "language_info": {
   "codemirror_mode": {
    "name": "ipython",
    "version": 3
   },
   "file_extension": ".py",
   "mimetype": "text/x-python",
   "name": "python",
   "nbconvert_exporter": "python",
   "pygments_lexer": "ipython3",
   "version": "3.9.12"
  }
 },
 "nbformat": 4,
 "nbformat_minor": 5
}
